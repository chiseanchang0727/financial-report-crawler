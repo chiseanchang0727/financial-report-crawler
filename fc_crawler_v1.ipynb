{
 "cells": [
  {
   "cell_type": "code",
   "execution_count": 1,
   "metadata": {},
   "outputs": [],
   "source": [
    "import pandas as pd\n",
    "import requests\n",
    "from datetime import datetime\n",
    "from bs4 import BeautifulSoup\n",
    "from utils import read_config, MySQLAgent\n",
    "import time, random"
   ]
  },
  {
   "cell_type": "code",
   "execution_count": 2,
   "metadata": {},
   "outputs": [],
   "source": [
    "config = read_config('.env/local_conn.json')\n",
    "sql_agent = MySQLAgent(config['local_mysql'])"
   ]
  },
  {
   "cell_type": "code",
   "execution_count": 3,
   "metadata": {},
   "outputs": [
    {
     "data": {
      "text/html": [
       "<div>\n",
       "<style scoped>\n",
       "    .dataframe tbody tr th:only-of-type {\n",
       "        vertical-align: middle;\n",
       "    }\n",
       "\n",
       "    .dataframe tbody tr th {\n",
       "        vertical-align: top;\n",
       "    }\n",
       "\n",
       "    .dataframe thead th {\n",
       "        text-align: right;\n",
       "    }\n",
       "</style>\n",
       "<table border=\"1\" class=\"dataframe\">\n",
       "  <thead>\n",
       "    <tr style=\"text-align: right;\">\n",
       "      <th></th>\n",
       "      <th>tables_in_generaldb</th>\n",
       "    </tr>\n",
       "  </thead>\n",
       "  <tbody>\n",
       "    <tr>\n",
       "      <th>0</th>\n",
       "      <td>balancesheet</td>\n",
       "    </tr>\n",
       "    <tr>\n",
       "      <th>1</th>\n",
       "      <td>port_activity</td>\n",
       "    </tr>\n",
       "  </tbody>\n",
       "</table>\n",
       "</div>"
      ],
      "text/plain": [
       "  tables_in_generaldb\n",
       "0        balancesheet\n",
       "1       port_activity"
      ]
     },
     "execution_count": 3,
     "metadata": {},
     "output_type": "execute_result"
    }
   ],
   "source": [
    "query = \"\"\"\n",
    "show tables\n",
    "\"\"\"\n",
    "\n",
    "sql_agent.read_table(query=query)"
   ]
  },
  {
   "cell_type": "code",
   "execution_count": 4,
   "metadata": {},
   "outputs": [],
   "source": [
    "# 網站連線資料\n",
    "BalanceSheetURL = \"https://mops.twse.com.tw/mops/web/ajax_t164sb03\";      # 資產負債表\n",
    "ProfitAndLoseURL = \"https://mops.twse.com.tw/mops/web/ajax_t164sb04\";    # 損益表\n",
    "CashFlowStatementURL = \"https://mops.twse.com.tw/mops/web/ajax_t164sb05\"; # 現金流量表"
   ]
  },
  {
   "cell_type": "code",
   "execution_count": 6,
   "metadata": {},
   "outputs": [],
   "source": [
    "def get_balancesheet(stock_number, year, season, url):\n",
    "    df = pd.DataFrame()\n",
    "    form_data = {\n",
    "        'encodeURIComponent':1,\n",
    "        'step':1,\n",
    "        'firstin':1,\n",
    "        'off':1,\n",
    "        'co_id':stock_number,\n",
    "        'year': year,\n",
    "        'season': season,\n",
    "    }\n",
    "\n",
    "    try:\n",
    "        r = requests.post(url,form_data)\n",
    "        soup = BeautifulSoup(r.text, 'html.parser')\n",
    "        table = soup.find_all('table')[1]\n",
    "        # headers = [header.text for header in table.find_all('th')]\n",
    "        year_seaon = table.find_all('th')[0].get_text()\n",
    "        rows = []\n",
    "        for row in table.find_all('tr')[1:]:\n",
    "            cells = row.find_all('td')\n",
    "            cells_text = [cell.text.strip() for cell in cells]\n",
    "            rows.append(cells_text)\n",
    "            \n",
    "        # the format of season 4 is different with each other\n",
    "        if season != 4:\n",
    "            columns = ['acct_name', 'this_year_amt', 'this_year_percent', 'last_hy_amt', 'last_hy_amt_%', 'last_year_amt', 'last_year_percent']\n",
    "            df_temp = pd.DataFrame(rows, columns=columns)\n",
    "            df_select = df_temp.iloc[:, [0,1,2,5,6]].iloc[3:].copy()\n",
    "        elif season == 4:\n",
    "            columns = ['acct_name', 'this_year_amt', 'this_year_percent', 'last_year_amt', 'last_year_percent']\n",
    "            df_temp = pd.DataFrame(rows, columns=columns)\n",
    "            df_select = df_temp.iloc[3:].copy()\n",
    "        else:\n",
    "            raise print('wrong season input.')\n",
    "      \n",
    "        df_select['report_name'] = 'BalanceSheet'\n",
    "        df_select['report_time_raw'] = year_seaon\n",
    "        df_select['period_year'] = year\n",
    "        df_select['season'] = season\n",
    "        df_select['creation_date'] = datetime.now().strftime('%Y-%m-%d')\n",
    "        \n",
    "\n",
    "        df_select['stock'] = stock_number\n",
    "\n",
    "        df = pd.concat([df, df_select], axis=0)\n",
    "        \n",
    "        \n",
    "        \n",
    "        # time.sleep(random.uniform(10, 35))\n",
    "            \n",
    "    except requests.RequestException as e:\n",
    "        print(f'An unexpected error occurred for stock number {stock_number}: {e}')\n",
    "        \n",
    "    return df"
   ]
  },
  {
   "cell_type": "code",
   "execution_count": 39,
   "metadata": {},
   "outputs": [
    {
     "name": "stdout",
     "output_type": "stream",
     "text": [
      "get 2330 balancesheet\n"
     ]
    }
   ],
   "source": [
    "# stock_number = '2330'\n",
    "# year = 113\n",
    "# season = 1\n",
    "# url = BalanceSheetURL\n",
    "# df_balancesheet = get_balancesheet(stock_number, year, season, url=url)"
   ]
  },
  {
   "cell_type": "code",
   "execution_count": 15,
   "metadata": {},
   "outputs": [],
   "source": [
    "def balancesheet_crawler(stock_number, url):\n",
    "\n",
    "    current_year = datetime.now().year - 1911\n",
    "    year_list = [i for i in range(current_year-5, current_year+1,1)]\n",
    "    season_list = [1, 2, 3, 4]\n",
    "    max_year = current_year\n",
    "    max_season_by_max_year = 1 # hard code\n",
    "    df_result = pd.DataFrame()\n",
    "    for year in year_list:\n",
    "        for season in season_list:\n",
    "            if year == max_year and season > max_season_by_max_year:\n",
    "                break\n",
    "            df_temp = get_balancesheet(stock_number, year, season, url=url)\n",
    "            print(f'Get {stock_number} balancesheet with year {year}, season {season}')\n",
    "            \n",
    "            df_result = pd.concat([df_result, df_temp], axis=0)\n",
    "                \n",
    "        \n",
    "    return df_result"
   ]
  },
  {
   "cell_type": "code",
   "execution_count": 16,
   "metadata": {},
   "outputs": [
    {
     "name": "stdout",
     "output_type": "stream",
     "text": [
      "get 2330 balancesheet with year is 108, season is 1\n",
      "get 2330 balancesheet with year is 108, season is 2\n",
      "get 2330 balancesheet with year is 108, season is 3\n",
      "get 2330 balancesheet with year is 108, season is 4\n",
      "get 2330 balancesheet with year is 109, season is 1\n",
      "get 2330 balancesheet with year is 109, season is 2\n",
      "get 2330 balancesheet with year is 109, season is 3\n",
      "get 2330 balancesheet with year is 109, season is 4\n",
      "get 2330 balancesheet with year is 110, season is 1\n",
      "get 2330 balancesheet with year is 110, season is 2\n",
      "get 2330 balancesheet with year is 110, season is 3\n",
      "get 2330 balancesheet with year is 110, season is 4\n",
      "get 2330 balancesheet with year is 111, season is 1\n",
      "get 2330 balancesheet with year is 111, season is 2\n",
      "get 2330 balancesheet with year is 111, season is 3\n",
      "get 2330 balancesheet with year is 111, season is 4\n",
      "get 2330 balancesheet with year is 112, season is 1\n",
      "get 2330 balancesheet with year is 112, season is 2\n",
      "get 2330 balancesheet with year is 112, season is 3\n",
      "get 2330 balancesheet with year is 112, season is 4\n"
     ]
    },
    {
     "ename": "IndexError",
     "evalue": "list index out of range",
     "output_type": "error",
     "traceback": [
      "\u001b[1;31m---------------------------------------------------------------------------\u001b[0m",
      "\u001b[1;31mIndexError\u001b[0m                                Traceback (most recent call last)",
      "Cell \u001b[1;32mIn[16], line 1\u001b[0m\n\u001b[1;32m----> 1\u001b[0m df_balancesheet \u001b[38;5;241m=\u001b[39m \u001b[43mbalancesheet_crawler\u001b[49m\u001b[43m(\u001b[49m\u001b[43mstock_number\u001b[49m\u001b[38;5;241;43m=\u001b[39;49m\u001b[38;5;124;43m'\u001b[39;49m\u001b[38;5;124;43m2330\u001b[39;49m\u001b[38;5;124;43m'\u001b[39;49m\u001b[43m,\u001b[49m\u001b[43m \u001b[49m\u001b[43murl\u001b[49m\u001b[38;5;241;43m=\u001b[39;49m\u001b[43mBalanceSheetURL\u001b[49m\u001b[43m)\u001b[49m\n",
      "Cell \u001b[1;32mIn[15], line 13\u001b[0m, in \u001b[0;36mbalancesheet_crawler\u001b[1;34m(stock_number, url)\u001b[0m\n\u001b[0;32m     11\u001b[0m \u001b[38;5;28;01mfor\u001b[39;00m season \u001b[38;5;129;01min\u001b[39;00m season_list:\n\u001b[0;32m     12\u001b[0m     \u001b[38;5;28;01mif\u001b[39;00m season \u001b[38;5;241m<\u001b[39m\u001b[38;5;241m=\u001b[39m max_season_by_max_year:\n\u001b[1;32m---> 13\u001b[0m         df_temp \u001b[38;5;241m=\u001b[39m \u001b[43mget_balancesheet\u001b[49m\u001b[43m(\u001b[49m\u001b[43mstock_number\u001b[49m\u001b[43m,\u001b[49m\u001b[43m \u001b[49m\u001b[43myear\u001b[49m\u001b[43m,\u001b[49m\u001b[43m \u001b[49m\u001b[43mseason\u001b[49m\u001b[43m,\u001b[49m\u001b[43m \u001b[49m\u001b[43murl\u001b[49m\u001b[38;5;241;43m=\u001b[39;49m\u001b[43murl\u001b[49m\u001b[43m)\u001b[49m\n\u001b[0;32m     14\u001b[0m         \u001b[38;5;28mprint\u001b[39m(\u001b[38;5;124mf\u001b[39m\u001b[38;5;124m'\u001b[39m\u001b[38;5;124mget \u001b[39m\u001b[38;5;132;01m{\u001b[39;00mstock_number\u001b[38;5;132;01m}\u001b[39;00m\u001b[38;5;124m balancesheet with year is \u001b[39m\u001b[38;5;132;01m{\u001b[39;00myear\u001b[38;5;132;01m}\u001b[39;00m\u001b[38;5;124m, season is \u001b[39m\u001b[38;5;132;01m{\u001b[39;00mseason\u001b[38;5;132;01m}\u001b[39;00m\u001b[38;5;124m'\u001b[39m)\n\u001b[0;32m     15\u001b[0m     \u001b[38;5;28;01melse\u001b[39;00m:\n",
      "Cell \u001b[1;32mIn[6], line 16\u001b[0m, in \u001b[0;36mget_balancesheet\u001b[1;34m(stock_number, year, season, url)\u001b[0m\n\u001b[0;32m     14\u001b[0m r \u001b[38;5;241m=\u001b[39m requests\u001b[38;5;241m.\u001b[39mpost(url,form_data)\n\u001b[0;32m     15\u001b[0m soup \u001b[38;5;241m=\u001b[39m BeautifulSoup(r\u001b[38;5;241m.\u001b[39mtext, \u001b[38;5;124m'\u001b[39m\u001b[38;5;124mhtml.parser\u001b[39m\u001b[38;5;124m'\u001b[39m)\n\u001b[1;32m---> 16\u001b[0m table \u001b[38;5;241m=\u001b[39m \u001b[43msoup\u001b[49m\u001b[38;5;241;43m.\u001b[39;49m\u001b[43mfind_all\u001b[49m\u001b[43m(\u001b[49m\u001b[38;5;124;43m'\u001b[39;49m\u001b[38;5;124;43mtable\u001b[39;49m\u001b[38;5;124;43m'\u001b[39;49m\u001b[43m)\u001b[49m\u001b[43m[\u001b[49m\u001b[38;5;241;43m1\u001b[39;49m\u001b[43m]\u001b[49m\n\u001b[0;32m     17\u001b[0m \u001b[38;5;66;03m# headers = [header.text for header in table.find_all('th')]\u001b[39;00m\n\u001b[0;32m     18\u001b[0m year_seaon \u001b[38;5;241m=\u001b[39m table\u001b[38;5;241m.\u001b[39mfind_all(\u001b[38;5;124m'\u001b[39m\u001b[38;5;124mth\u001b[39m\u001b[38;5;124m'\u001b[39m)[\u001b[38;5;241m0\u001b[39m]\u001b[38;5;241m.\u001b[39mget_text()\n",
      "\u001b[1;31mIndexError\u001b[0m: list index out of range"
     ]
    }
   ],
   "source": [
    "df_balancesheet = balancesheet_crawler(stock_number='2330', url=BalanceSheetURL)"
   ]
  },
  {
   "cell_type": "code",
   "execution_count": 12,
   "metadata": {},
   "outputs": [
    {
     "ename": "NameError",
     "evalue": "name 'df_balancesheet' is not defined",
     "output_type": "error",
     "traceback": [
      "\u001b[1;31m---------------------------------------------------------------------------\u001b[0m",
      "\u001b[1;31mNameError\u001b[0m                                 Traceback (most recent call last)",
      "Cell \u001b[1;32mIn[12], line 1\u001b[0m\n\u001b[1;32m----> 1\u001b[0m \u001b[43mdf_balancesheet\u001b[49m\n",
      "\u001b[1;31mNameError\u001b[0m: name 'df_balancesheet' is not defined"
     ]
    }
   ],
   "source": [
    "df_balancesheet"
   ]
  },
  {
   "cell_type": "code",
   "execution_count": 41,
   "metadata": {},
   "outputs": [],
   "source": [
    "sql_agent.write_table(df_balancesheet, 'balancesheet', if_exists='replace', index=False, data_type=None)"
   ]
  }
 ],
 "metadata": {
  "kernelspec": {
   "display_name": "frc",
   "language": "python",
   "name": "python3"
  },
  "language_info": {
   "codemirror_mode": {
    "name": "ipython",
    "version": 3
   },
   "file_extension": ".py",
   "mimetype": "text/x-python",
   "name": "python",
   "nbconvert_exporter": "python",
   "pygments_lexer": "ipython3",
   "version": "3.10.14"
  }
 },
 "nbformat": 4,
 "nbformat_minor": 2
}
