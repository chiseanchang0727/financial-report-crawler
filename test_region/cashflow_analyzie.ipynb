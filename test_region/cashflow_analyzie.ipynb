{
 "cells": [
  {
   "cell_type": "code",
   "execution_count": 28,
   "metadata": {},
   "outputs": [],
   "source": [
    "import pandas as pd\n",
    "import yfinance as yf\n",
    "import matplotlib.pyplot as plt\n",
    "\n",
    "from src.utils import read_config\n",
    "from urllib.request import urlopen\n",
    "import certifi\n",
    "import json\n",
    "\n",
    "from src.plot_func import plot_cashflow"
   ]
  },
  {
   "cell_type": "code",
   "execution_count": 32,
   "metadata": {},
   "outputs": [],
   "source": [
    "config = read_config('../.env/configs.json')"
   ]
  },
  {
   "cell_type": "markdown",
   "metadata": {},
   "source": [
    "# Get data"
   ]
  },
  {
   "cell_type": "markdown",
   "metadata": {},
   "source": [
    "### FMP"
   ]
  },
  {
   "cell_type": "code",
   "execution_count": 68,
   "metadata": {},
   "outputs": [
    {
     "name": "stdout",
     "output_type": "stream",
     "text": [
      "https://financialmodelingprep.com/api/v3/cash-flow-statement/AAPL?limit=10&apikey=5ac80141f5198c04645adbd90ba2aef1\n"
     ]
    },
    {
     "name": "stderr",
     "output_type": "stream",
     "text": [
      "C:\\Users\\sean.chang\\AppData\\Local\\Temp\\ipykernel_29240\\3407431755.py:2: DeprecationWarning: cafile, capath and cadefault are deprecated, use a custom context instead.\n",
      "  response = urlopen(url, cafile=certifi.where())\n"
     ]
    }
   ],
   "source": [
    "def get_jsonparsed_data(url):\n",
    "    response = urlopen(url, cafile=certifi.where())\n",
    "    data = response.read().decode(\"utf-8\")\n",
    "    data_json = json.loads(data)\n",
    "    return pd.DataFrame(data_json)\n",
    "\n",
    "\n",
    "def get_fp(topic, stock, apikey) -> pd.DataFrame:\n",
    "\n",
    "    url = f'https://financialmodelingprep.com/api/v3/{topic}/{stock}?limit=10&apikey={apikey}'\n",
    "    print(url)\n",
    "    df = get_jsonparsed_data(url)\n",
    "    \n",
    "    return df.sort_values('date', ascending=True)\n",
    "\n",
    "stock = \"AAPL\"\n",
    "fmpkey = config['fmpkey']\n",
    "\n",
    "df_aapl_cashflow = get_fp('cash-flow-statement', stock, fmpkey)"
   ]
  },
  {
   "cell_type": "code",
   "execution_count": 69,
   "metadata": {},
   "outputs": [
    {
     "data": {
      "text/html": [
       "<div>\n",
       "<style scoped>\n",
       "    .dataframe tbody tr th:only-of-type {\n",
       "        vertical-align: middle;\n",
       "    }\n",
       "\n",
       "    .dataframe tbody tr th {\n",
       "        vertical-align: top;\n",
       "    }\n",
       "\n",
       "    .dataframe thead th {\n",
       "        text-align: right;\n",
       "    }\n",
       "</style>\n",
       "<table border=\"1\" class=\"dataframe\">\n",
       "  <thead>\n",
       "    <tr style=\"text-align: right;\">\n",
       "      <th></th>\n",
       "      <th>date</th>\n",
       "      <th>symbol</th>\n",
       "      <th>reportedCurrency</th>\n",
       "      <th>cik</th>\n",
       "      <th>fillingDate</th>\n",
       "      <th>acceptedDate</th>\n",
       "      <th>calendarYear</th>\n",
       "      <th>period</th>\n",
       "      <th>netIncome</th>\n",
       "      <th>depreciationAndAmortization</th>\n",
       "      <th>...</th>\n",
       "      <th>netCashUsedProvidedByFinancingActivities</th>\n",
       "      <th>effectOfForexChangesOnCash</th>\n",
       "      <th>netChangeInCash</th>\n",
       "      <th>cashAtEndOfPeriod</th>\n",
       "      <th>cashAtBeginningOfPeriod</th>\n",
       "      <th>operatingCashFlow</th>\n",
       "      <th>capitalExpenditure</th>\n",
       "      <th>freeCashFlow</th>\n",
       "      <th>link</th>\n",
       "      <th>finalLink</th>\n",
       "    </tr>\n",
       "  </thead>\n",
       "  <tbody>\n",
       "    <tr>\n",
       "      <th>4</th>\n",
       "      <td>2019-09-28</td>\n",
       "      <td>AAPL</td>\n",
       "      <td>USD</td>\n",
       "      <td>0000320193</td>\n",
       "      <td>2019-10-31</td>\n",
       "      <td>2019-10-30 18:12:36</td>\n",
       "      <td>2019</td>\n",
       "      <td>FY</td>\n",
       "      <td>55256000000</td>\n",
       "      <td>12547000000</td>\n",
       "      <td>...</td>\n",
       "      <td>-90976000000</td>\n",
       "      <td>0</td>\n",
       "      <td>24311000000</td>\n",
       "      <td>50224000000</td>\n",
       "      <td>25913000000</td>\n",
       "      <td>69391000000</td>\n",
       "      <td>-10495000000</td>\n",
       "      <td>58896000000</td>\n",
       "      <td>https://www.sec.gov/Archives/edgar/data/320193...</td>\n",
       "      <td>https://www.sec.gov/Archives/edgar/data/320193...</td>\n",
       "    </tr>\n",
       "    <tr>\n",
       "      <th>3</th>\n",
       "      <td>2020-09-26</td>\n",
       "      <td>AAPL</td>\n",
       "      <td>USD</td>\n",
       "      <td>0000320193</td>\n",
       "      <td>2020-10-30</td>\n",
       "      <td>2020-10-29 18:06:25</td>\n",
       "      <td>2020</td>\n",
       "      <td>FY</td>\n",
       "      <td>57411000000</td>\n",
       "      <td>11056000000</td>\n",
       "      <td>...</td>\n",
       "      <td>-86820000000</td>\n",
       "      <td>0</td>\n",
       "      <td>-10435000000</td>\n",
       "      <td>39789000000</td>\n",
       "      <td>50224000000</td>\n",
       "      <td>80674000000</td>\n",
       "      <td>-7309000000</td>\n",
       "      <td>73365000000</td>\n",
       "      <td>https://www.sec.gov/Archives/edgar/data/320193...</td>\n",
       "      <td>https://www.sec.gov/Archives/edgar/data/320193...</td>\n",
       "    </tr>\n",
       "    <tr>\n",
       "      <th>2</th>\n",
       "      <td>2021-09-25</td>\n",
       "      <td>AAPL</td>\n",
       "      <td>USD</td>\n",
       "      <td>0000320193</td>\n",
       "      <td>2021-10-29</td>\n",
       "      <td>2021-10-28 18:04:28</td>\n",
       "      <td>2021</td>\n",
       "      <td>FY</td>\n",
       "      <td>94680000000</td>\n",
       "      <td>11284000000</td>\n",
       "      <td>...</td>\n",
       "      <td>-93353000000</td>\n",
       "      <td>0</td>\n",
       "      <td>-3860000000</td>\n",
       "      <td>35929000000</td>\n",
       "      <td>39789000000</td>\n",
       "      <td>104038000000</td>\n",
       "      <td>-11085000000</td>\n",
       "      <td>92953000000</td>\n",
       "      <td>https://www.sec.gov/Archives/edgar/data/320193...</td>\n",
       "      <td>https://www.sec.gov/Archives/edgar/data/320193...</td>\n",
       "    </tr>\n",
       "    <tr>\n",
       "      <th>1</th>\n",
       "      <td>2022-09-24</td>\n",
       "      <td>AAPL</td>\n",
       "      <td>USD</td>\n",
       "      <td>0000320193</td>\n",
       "      <td>2022-10-28</td>\n",
       "      <td>2022-10-27 18:01:14</td>\n",
       "      <td>2022</td>\n",
       "      <td>FY</td>\n",
       "      <td>99803000000</td>\n",
       "      <td>11104000000</td>\n",
       "      <td>...</td>\n",
       "      <td>-110749000000</td>\n",
       "      <td>0</td>\n",
       "      <td>-10952000000</td>\n",
       "      <td>24977000000</td>\n",
       "      <td>35929000000</td>\n",
       "      <td>122151000000</td>\n",
       "      <td>-10708000000</td>\n",
       "      <td>111443000000</td>\n",
       "      <td>https://www.sec.gov/Archives/edgar/data/320193...</td>\n",
       "      <td>https://www.sec.gov/Archives/edgar/data/320193...</td>\n",
       "    </tr>\n",
       "    <tr>\n",
       "      <th>0</th>\n",
       "      <td>2023-09-30</td>\n",
       "      <td>AAPL</td>\n",
       "      <td>USD</td>\n",
       "      <td>0000320193</td>\n",
       "      <td>2023-11-03</td>\n",
       "      <td>2023-11-02 18:08:27</td>\n",
       "      <td>2023</td>\n",
       "      <td>FY</td>\n",
       "      <td>96995000000</td>\n",
       "      <td>11519000000</td>\n",
       "      <td>...</td>\n",
       "      <td>-108488000000</td>\n",
       "      <td>0</td>\n",
       "      <td>5760000000</td>\n",
       "      <td>30737000000</td>\n",
       "      <td>24977000000</td>\n",
       "      <td>110543000000</td>\n",
       "      <td>-10959000000</td>\n",
       "      <td>99584000000</td>\n",
       "      <td>https://www.sec.gov/Archives/edgar/data/320193...</td>\n",
       "      <td>https://www.sec.gov/Archives/edgar/data/320193...</td>\n",
       "    </tr>\n",
       "  </tbody>\n",
       "</table>\n",
       "<p>5 rows × 40 columns</p>\n",
       "</div>"
      ],
      "text/plain": [
       "         date symbol reportedCurrency         cik fillingDate  \\\n",
       "4  2019-09-28   AAPL              USD  0000320193  2019-10-31   \n",
       "3  2020-09-26   AAPL              USD  0000320193  2020-10-30   \n",
       "2  2021-09-25   AAPL              USD  0000320193  2021-10-29   \n",
       "1  2022-09-24   AAPL              USD  0000320193  2022-10-28   \n",
       "0  2023-09-30   AAPL              USD  0000320193  2023-11-03   \n",
       "\n",
       "          acceptedDate calendarYear period    netIncome  \\\n",
       "4  2019-10-30 18:12:36         2019     FY  55256000000   \n",
       "3  2020-10-29 18:06:25         2020     FY  57411000000   \n",
       "2  2021-10-28 18:04:28         2021     FY  94680000000   \n",
       "1  2022-10-27 18:01:14         2022     FY  99803000000   \n",
       "0  2023-11-02 18:08:27         2023     FY  96995000000   \n",
       "\n",
       "   depreciationAndAmortization  ...  netCashUsedProvidedByFinancingActivities  \\\n",
       "4                  12547000000  ...                              -90976000000   \n",
       "3                  11056000000  ...                              -86820000000   \n",
       "2                  11284000000  ...                              -93353000000   \n",
       "1                  11104000000  ...                             -110749000000   \n",
       "0                  11519000000  ...                             -108488000000   \n",
       "\n",
       "   effectOfForexChangesOnCash  netChangeInCash  cashAtEndOfPeriod  \\\n",
       "4                           0      24311000000        50224000000   \n",
       "3                           0     -10435000000        39789000000   \n",
       "2                           0      -3860000000        35929000000   \n",
       "1                           0     -10952000000        24977000000   \n",
       "0                           0       5760000000        30737000000   \n",
       "\n",
       "   cashAtBeginningOfPeriod  operatingCashFlow  capitalExpenditure  \\\n",
       "4              25913000000        69391000000        -10495000000   \n",
       "3              50224000000        80674000000         -7309000000   \n",
       "2              39789000000       104038000000        -11085000000   \n",
       "1              35929000000       122151000000        -10708000000   \n",
       "0              24977000000       110543000000        -10959000000   \n",
       "\n",
       "   freeCashFlow                                               link  \\\n",
       "4   58896000000  https://www.sec.gov/Archives/edgar/data/320193...   \n",
       "3   73365000000  https://www.sec.gov/Archives/edgar/data/320193...   \n",
       "2   92953000000  https://www.sec.gov/Archives/edgar/data/320193...   \n",
       "1  111443000000  https://www.sec.gov/Archives/edgar/data/320193...   \n",
       "0   99584000000  https://www.sec.gov/Archives/edgar/data/320193...   \n",
       "\n",
       "                                           finalLink  \n",
       "4  https://www.sec.gov/Archives/edgar/data/320193...  \n",
       "3  https://www.sec.gov/Archives/edgar/data/320193...  \n",
       "2  https://www.sec.gov/Archives/edgar/data/320193...  \n",
       "1  https://www.sec.gov/Archives/edgar/data/320193...  \n",
       "0  https://www.sec.gov/Archives/edgar/data/320193...  \n",
       "\n",
       "[5 rows x 40 columns]"
      ]
     },
     "execution_count": 69,
     "metadata": {},
     "output_type": "execute_result"
    }
   ],
   "source": [
    "df_aapl_cashflow"
   ]
  },
  {
   "cell_type": "code",
   "execution_count": 52,
   "metadata": {},
   "outputs": [
    {
     "data": {
      "text/plain": [
       "Index(['date', 'symbol', 'reportedCurrency', 'cik', 'fillingDate',\n",
       "       'acceptedDate', 'calendarYear', 'period', 'netIncome',\n",
       "       'depreciationAndAmortization', 'deferredIncomeTax',\n",
       "       'stockBasedCompensation', 'changeInWorkingCapital',\n",
       "       'accountsReceivables', 'inventory', 'accountsPayables',\n",
       "       'otherWorkingCapital', 'otherNonCashItems',\n",
       "       'netCashProvidedByOperatingActivities',\n",
       "       'investmentsInPropertyPlantAndEquipment', 'acquisitionsNet',\n",
       "       'purchasesOfInvestments', 'salesMaturitiesOfInvestments',\n",
       "       'otherInvestingActivites', 'netCashUsedForInvestingActivites',\n",
       "       'debtRepayment', 'commonStockIssued', 'commonStockRepurchased',\n",
       "       'dividendsPaid', 'otherFinancingActivites',\n",
       "       'netCashUsedProvidedByFinancingActivities',\n",
       "       'effectOfForexChangesOnCash', 'netChangeInCash', 'cashAtEndOfPeriod',\n",
       "       'cashAtBeginningOfPeriod', 'operatingCashFlow', 'capitalExpenditure',\n",
       "       'freeCashFlow', 'link', 'finalLink'],\n",
       "      dtype='object')"
      ]
     },
     "execution_count": 52,
     "metadata": {},
     "output_type": "execute_result"
    }
   ],
   "source": [
    "df_aapl_cashflow.columns"
   ]
  },
  {
   "cell_type": "code",
   "execution_count": 142,
   "metadata": {},
   "outputs": [],
   "source": [
    "base_column = ['symbol', 'calendarYear']"
   ]
  },
  {
   "cell_type": "markdown",
   "metadata": {},
   "source": [
    "### yfinance"
   ]
  },
  {
   "cell_type": "code",
   "execution_count": 2,
   "metadata": {},
   "outputs": [],
   "source": [
    "def get_ticker(ticker):\n",
    "    ticker = yf.Ticker(ticker)\n",
    "\n",
    "    return ticker\n",
    "\n",
    "\n",
    "ticker = get_ticker('AAPL')"
   ]
  },
  {
   "cell_type": "code",
   "execution_count": 7,
   "metadata": {},
   "outputs": [],
   "source": [
    "def obtain_cashflow(ticker):\n",
    "\n",
    "    cashflow = ticker.cashflow\n",
    "\n",
    "    return cashflow\n",
    "\n",
    "\n",
    "data = obtain_cashflow(ticker).iloc[:, :4]\n",
    "data_T = data.T.reset_index(names='date')"
   ]
  },
  {
   "cell_type": "markdown",
   "metadata": {},
   "source": [
    "### Help functions"
   ]
  },
  {
   "cell_type": "code",
   "execution_count": 64,
   "metadata": {},
   "outputs": [],
   "source": [
    "def plot_linechart(data, x_col, y_cols, title, xlabel='X-axis', ylabel='Y-axis', \n",
    "                   figsize=(10, 6), line_styles=None, markers=None, colors=None, legend=True):\n",
    "    \"\"\"\n",
    "    A generalized function to plot line charts for multiple columns.\n",
    "    \n",
    "    Parameters:\n",
    "    data (pd.DataFrame): The DataFrame containing the data.\n",
    "    x_col (str): The column name for the x-axis.\n",
    "    y_cols (list of str): List of column names to plot on the y-axis.\n",
    "    title (str): Title of the plot.\n",
    "    xlabel (str): Label for the x-axis (default is 'X-axis').\n",
    "    ylabel (str): Label for the y-axis (default is 'Y-axis').\n",
    "    figsize (tuple): Size of the plot (default is (10, 6)).\n",
    "    line_styles (list of str): List of line styles for each y-axis column (default is None).\n",
    "    markers (list of str): List of markers for each line (default is None).\n",
    "    colors (list of str): List of colors for each line (default is None).\n",
    "    legend (bool): Whether to display a legend (default is True).\n",
    "    \"\"\"\n",
    "    plt.figure(figsize=figsize)\n",
    "    \n",
    "    # Iterate through y_cols to plot each line\n",
    "    for i, y_col in enumerate(y_cols):\n",
    "        style = line_styles[i] if line_styles and i < len(line_styles) else '-'\n",
    "        marker = markers[i] if markers and i < len(markers) else None\n",
    "        color = colors[i] if colors and i < len(colors) else None\n",
    "        \n",
    "        plt.plot(data[x_col], data[y_col], label=y_col, linestyle=style, marker=marker, color=color)\n",
    "    \n",
    "    plt.xlabel(xlabel)\n",
    "    plt.ylabel(ylabel)\n",
    "    plt.title(title)\n",
    "    \n",
    "    if legend:\n",
    "        plt.legend()\n",
    "    \n",
    "    plt.grid(True)\n",
    "    plt.show()"
   ]
  },
  {
   "cell_type": "code",
   "execution_count": 159,
   "metadata": {},
   "outputs": [],
   "source": [
    "def get_variation(df, col, new_colname):\n",
    "\n",
    "    data = df[['calendarYear', col]].copy()\n",
    "\n",
    "    # Calculate variation with respect to the previous year\n",
    "    data.loc[:, new_colname] = round(((data[col] - data[col].shift(1))/data[col].shift(1)),2)\n",
    "\n",
    "    return data.dropna()"
   ]
  },
  {
   "cell_type": "code",
   "execution_count": 137,
   "metadata": {},
   "outputs": [],
   "source": [
    "def plot_variation(data, date_col, variation_col, title, \n",
    "                   xlabel=\"Date\", ylabel=\"Variation\", figsize=(10, 6), bar_width=0.4):\n",
    "    \"\"\"\n",
    "    Function to plot the yearly variation in net income with color-coded bars.\n",
    "    \n",
    "    Parameters:\n",
    "    data (pd.DataFrame): The DataFrame containing the data.\n",
    "    date_col (str): The name of the column containing the date.\n",
    "    variation_col (str): The name of the column containing the variation values.\n",
    "    title (str): The title of the plot.\n",
    "    xlabel (str): The label for the x-axis.\n",
    "    ylabel (str): The label for the y-axis.\n",
    "    figsize (tuple): The size of the plot (default is (10, 6)).\n",
    "    bar_width (float): The width of the bars (default is 0.4).\n",
    "    \"\"\"\n",
    "\n",
    "    # Define colors based on whether the variation is positive or negative\n",
    "    colors = ['green' if val > 0 else 'red' for val in data[variation_col]]\n",
    "    \n",
    "    # Plotting the bar chart\n",
    "    plt.figure(figsize=figsize)\n",
    "    plt.bar(data[date_col], data[variation_col], color=colors, width=bar_width)\n",
    "    plt.title(title)\n",
    "    plt.xlabel(xlabel)\n",
    "    plt.ylabel(ylabel)\n",
    "\n",
    "    plt.axhline(0, color='black', linewidth=0.5)\n",
    "\n",
    "    # Removing the grid lines\n",
    "    plt.grid(False)\n",
    "    \n",
    "    plt.show()"
   ]
  },
  {
   "cell_type": "markdown",
   "metadata": {},
   "source": [
    "# Break Down the Cash Flow Sections"
   ]
  },
  {
   "cell_type": "markdown",
   "metadata": {},
   "source": [
    "## Operating Activities"
   ]
  },
  {
   "cell_type": "markdown",
   "metadata": {},
   "source": [
    "Operating Activities  \n",
    "This section tells you how much cash the company generates from its core operations. Look at:\n",
    "\n",
    "- Net Income: This gives you a baseline of the profitability.\n",
    "- Depreciation & Amortization: Non-cash expenses that reduce net income but do not affect cash flow.\n",
    "- Changes in Working Capital( $\\Delta$ WC): Variations in accounts receivable, inventory, and payable\n",
    "    - working capital: 營運資本\n",
    "    - formula: $\\Delta$ AR(accounts receivables) + $\\Delta$ Invectory - $\\Delta$ AP(accounts payables) + $\\Delta$ otherWC\n",
    "        - $\\Delta$ means the values in 2020 - values in 2019"
   ]
  },
  {
   "cell_type": "code",
   "execution_count": 143,
   "metadata": {},
   "outputs": [
    {
     "data": {
      "text/html": [
       "<div>\n",
       "<style scoped>\n",
       "    .dataframe tbody tr th:only-of-type {\n",
       "        vertical-align: middle;\n",
       "    }\n",
       "\n",
       "    .dataframe tbody tr th {\n",
       "        vertical-align: top;\n",
       "    }\n",
       "\n",
       "    .dataframe thead th {\n",
       "        text-align: right;\n",
       "    }\n",
       "</style>\n",
       "<table border=\"1\" class=\"dataframe\">\n",
       "  <thead>\n",
       "    <tr style=\"text-align: right;\">\n",
       "      <th></th>\n",
       "      <th>symbol</th>\n",
       "      <th>calendarYear</th>\n",
       "      <th>netCashProvidedByOperatingActivities</th>\n",
       "      <th>netIncome</th>\n",
       "      <th>depreciationAndAmortization</th>\n",
       "      <th>changeInWorkingCapital</th>\n",
       "      <th>accountsReceivables</th>\n",
       "      <th>inventory</th>\n",
       "      <th>accountsPayables</th>\n",
       "      <th>otherWorkingCapital</th>\n",
       "    </tr>\n",
       "  </thead>\n",
       "  <tbody>\n",
       "    <tr>\n",
       "      <th>4</th>\n",
       "      <td>AAPL</td>\n",
       "      <td>2019</td>\n",
       "      <td>69391000000</td>\n",
       "      <td>55256000000</td>\n",
       "      <td>12547000000</td>\n",
       "      <td>-3488000000</td>\n",
       "      <td>245000000</td>\n",
       "      <td>-289000000</td>\n",
       "      <td>-1923000000</td>\n",
       "      <td>-625000000</td>\n",
       "    </tr>\n",
       "    <tr>\n",
       "      <th>3</th>\n",
       "      <td>AAPL</td>\n",
       "      <td>2020</td>\n",
       "      <td>80674000000</td>\n",
       "      <td>57411000000</td>\n",
       "      <td>11056000000</td>\n",
       "      <td>5690000000</td>\n",
       "      <td>6917000000</td>\n",
       "      <td>-127000000</td>\n",
       "      <td>-4062000000</td>\n",
       "      <td>2081000000</td>\n",
       "    </tr>\n",
       "    <tr>\n",
       "      <th>2</th>\n",
       "      <td>AAPL</td>\n",
       "      <td>2021</td>\n",
       "      <td>104038000000</td>\n",
       "      <td>94680000000</td>\n",
       "      <td>11284000000</td>\n",
       "      <td>-4911000000</td>\n",
       "      <td>-10125000000</td>\n",
       "      <td>-2642000000</td>\n",
       "      <td>12326000000</td>\n",
       "      <td>1676000000</td>\n",
       "    </tr>\n",
       "    <tr>\n",
       "      <th>1</th>\n",
       "      <td>AAPL</td>\n",
       "      <td>2022</td>\n",
       "      <td>122151000000</td>\n",
       "      <td>99803000000</td>\n",
       "      <td>11104000000</td>\n",
       "      <td>1200000000</td>\n",
       "      <td>-1823000000</td>\n",
       "      <td>1484000000</td>\n",
       "      <td>9448000000</td>\n",
       "      <td>478000000</td>\n",
       "    </tr>\n",
       "    <tr>\n",
       "      <th>0</th>\n",
       "      <td>AAPL</td>\n",
       "      <td>2023</td>\n",
       "      <td>110543000000</td>\n",
       "      <td>96995000000</td>\n",
       "      <td>11519000000</td>\n",
       "      <td>-6577000000</td>\n",
       "      <td>-1688000000</td>\n",
       "      <td>-1618000000</td>\n",
       "      <td>-1889000000</td>\n",
       "      <td>0</td>\n",
       "    </tr>\n",
       "  </tbody>\n",
       "</table>\n",
       "</div>"
      ],
      "text/plain": [
       "  symbol calendarYear  netCashProvidedByOperatingActivities    netIncome  \\\n",
       "4   AAPL         2019                           69391000000  55256000000   \n",
       "3   AAPL         2020                           80674000000  57411000000   \n",
       "2   AAPL         2021                          104038000000  94680000000   \n",
       "1   AAPL         2022                          122151000000  99803000000   \n",
       "0   AAPL         2023                          110543000000  96995000000   \n",
       "\n",
       "   depreciationAndAmortization  changeInWorkingCapital  accountsReceivables  \\\n",
       "4                  12547000000             -3488000000            245000000   \n",
       "3                  11056000000              5690000000           6917000000   \n",
       "2                  11284000000             -4911000000         -10125000000   \n",
       "1                  11104000000              1200000000          -1823000000   \n",
       "0                  11519000000             -6577000000          -1688000000   \n",
       "\n",
       "    inventory  accountsPayables  otherWorkingCapital  \n",
       "4  -289000000       -1923000000           -625000000  \n",
       "3  -127000000       -4062000000           2081000000  \n",
       "2 -2642000000       12326000000           1676000000  \n",
       "1  1484000000        9448000000            478000000  \n",
       "0 -1618000000       -1889000000                    0  "
      ]
     },
     "execution_count": 143,
     "metadata": {},
     "output_type": "execute_result"
    }
   ],
   "source": [
    "columns_operating_activities = [\n",
    "    'netCashProvidedByOperatingActivities',\n",
    "    'netIncome',\n",
    "    'depreciationAndAmortization',\n",
    "    'changeInWorkingCapital',\n",
    "    'accountsReceivables',\n",
    "    'inventory',\n",
    "    'accountsPayables',\n",
    "    'otherWorkingCapital'\n",
    "]\n",
    "\n",
    "df_aapl_cashflow[base_column + columns_operating_activities]\n",
    "\n",
    "\n",
    "# depreciation 折舊\n",
    "# amortization 攤銷"
   ]
  },
  {
   "cell_type": "markdown",
   "metadata": {},
   "source": [
    "### Net Operating Cash Flow"
   ]
  },
  {
   "cell_type": "code",
   "execution_count": 190,
   "metadata": {},
   "outputs": [
    {
     "data": {
      "text/html": [
       "<div>\n",
       "<style scoped>\n",
       "    .dataframe tbody tr th:only-of-type {\n",
       "        vertical-align: middle;\n",
       "    }\n",
       "\n",
       "    .dataframe tbody tr th {\n",
       "        vertical-align: top;\n",
       "    }\n",
       "\n",
       "    .dataframe thead th {\n",
       "        text-align: right;\n",
       "    }\n",
       "</style>\n",
       "<table border=\"1\" class=\"dataframe\">\n",
       "  <thead>\n",
       "    <tr style=\"text-align: right;\">\n",
       "      <th></th>\n",
       "      <th>calendarYear</th>\n",
       "      <th>netCashProvidedByOperatingActivities</th>\n",
       "      <th>Net Operating Cash Flow Growth</th>\n",
       "    </tr>\n",
       "  </thead>\n",
       "  <tbody>\n",
       "    <tr>\n",
       "      <th>3</th>\n",
       "      <td>2020</td>\n",
       "      <td>80674000000</td>\n",
       "      <td>0.16</td>\n",
       "    </tr>\n",
       "    <tr>\n",
       "      <th>2</th>\n",
       "      <td>2021</td>\n",
       "      <td>104038000000</td>\n",
       "      <td>0.29</td>\n",
       "    </tr>\n",
       "    <tr>\n",
       "      <th>1</th>\n",
       "      <td>2022</td>\n",
       "      <td>122151000000</td>\n",
       "      <td>0.17</td>\n",
       "    </tr>\n",
       "    <tr>\n",
       "      <th>0</th>\n",
       "      <td>2023</td>\n",
       "      <td>110543000000</td>\n",
       "      <td>-0.10</td>\n",
       "    </tr>\n",
       "  </tbody>\n",
       "</table>\n",
       "</div>"
      ],
      "text/plain": [
       "  calendarYear  netCashProvidedByOperatingActivities  \\\n",
       "3         2020                           80674000000   \n",
       "2         2021                          104038000000   \n",
       "1         2022                          122151000000   \n",
       "0         2023                          110543000000   \n",
       "\n",
       "   Net Operating Cash Flow Growth  \n",
       "3                            0.16  \n",
       "2                            0.29  \n",
       "1                            0.17  \n",
       "0                           -0.10  "
      ]
     },
     "execution_count": 190,
     "metadata": {},
     "output_type": "execute_result"
    }
   ],
   "source": [
    "df_operationCash = get_variation(df_aapl_cashflow[['calendarYear', 'netCashProvidedByOperatingActivities']],\n",
    "                                 col='netCashProvidedByOperatingActivities',\n",
    "                                 new_colname='Net Operating Cash Flow Growth')\n",
    "df_operationCash"
   ]
  },
  {
   "cell_type": "code",
   "execution_count": 191,
   "metadata": {},
   "outputs": [
    {
     "data": {
      "image/png": "[encoded data removed]",
      "text/plain": [
       "<Figure size 1000x600 with 1 Axes>"
      ]
     },
     "metadata": {},
     "output_type": "display_data"
    }
   ],
   "source": [
    "plot_variation(\n",
    "    df_operationCash, \n",
    "    date_col='calendarYear', \n",
    "    variation_col='Net Operating Cash Flow Growth',\n",
    "    title='Net Operating Cash Flow Growth'\n",
    ")"
   ]
  },
  {
   "cell_type": "markdown",
   "metadata": {},
   "source": [
    "### Net Income"
   ]
  },
  {
   "cell_type": "code",
   "execution_count": 186,
   "metadata": {},
   "outputs": [
    {
     "data": {
      "image/png": "[encoded data removed]",
      "text/plain": [
       "<Figure size 1000x600 with 1 Axes>"
      ]
     },
     "metadata": {},
     "output_type": "display_data"
    }
   ],
   "source": [
    "df_netincome = get_variation(df_aapl_cashflow[['calendarYear', 'netIncome']], col='netIncome', new_colname='netIncomeChange')\n",
    "plot_variation(\n",
    "    df_netincome, \n",
    "    date_col='calendarYear', \n",
    "    variation_col='netIncomeChange',\n",
    "    title='Net Income Growth'\n",
    ")"
   ]
  },
  {
   "cell_type": "markdown",
   "metadata": {},
   "source": [
    "### Changes in Working Capital"
   ]
  },
  {
   "cell_type": "code",
   "execution_count": 185,
   "metadata": {},
   "outputs": [
    {
     "data": {
      "image/png": "[encoded data removed]",
      "text/plain": [
       "<Figure size 1000x600 with 1 Axes>"
      ]
     },
     "metadata": {},
     "output_type": "display_data"
    }
   ],
   "source": [
    "df_wc  = df_aapl_cashflow[['calendarYear', 'changeInWorkingCapital']]\n",
    "\n",
    "plot_variation(\n",
    "    df_wc, \n",
    "    date_col='calendarYear', \n",
    "    variation_col='changeInWorkingCapital',\n",
    "    title='changeInWorkingCapital'\n",
    ")"
   ]
  },
  {
   "cell_type": "markdown",
   "metadata": {},
   "source": [
    "### Depreciation, Depletion & Amortization"
   ]
  },
  {
   "cell_type": "code",
   "execution_count": 182,
   "metadata": {},
   "outputs": [
    {
     "data": {
      "text/html": [
       "<div>\n",
       "<style scoped>\n",
       "    .dataframe tbody tr th:only-of-type {\n",
       "        vertical-align: middle;\n",
       "    }\n",
       "\n",
       "    .dataframe tbody tr th {\n",
       "        vertical-align: top;\n",
       "    }\n",
       "\n",
       "    .dataframe thead th {\n",
       "        text-align: right;\n",
       "    }\n",
       "</style>\n",
       "<table border=\"1\" class=\"dataframe\">\n",
       "  <thead>\n",
       "    <tr style=\"text-align: right;\">\n",
       "      <th></th>\n",
       "      <th>calendarYear</th>\n",
       "      <th>depreciationAndAmortization</th>\n",
       "      <th>depreciationAndAmortization_variation</th>\n",
       "    </tr>\n",
       "  </thead>\n",
       "  <tbody>\n",
       "    <tr>\n",
       "      <th>3</th>\n",
       "      <td>2020</td>\n",
       "      <td>11056000000</td>\n",
       "      <td>-0.12</td>\n",
       "    </tr>\n",
       "    <tr>\n",
       "      <th>2</th>\n",
       "      <td>2021</td>\n",
       "      <td>11284000000</td>\n",
       "      <td>0.02</td>\n",
       "    </tr>\n",
       "    <tr>\n",
       "      <th>1</th>\n",
       "      <td>2022</td>\n",
       "      <td>11104000000</td>\n",
       "      <td>-0.02</td>\n",
       "    </tr>\n",
       "    <tr>\n",
       "      <th>0</th>\n",
       "      <td>2023</td>\n",
       "      <td>11519000000</td>\n",
       "      <td>0.04</td>\n",
       "    </tr>\n",
       "  </tbody>\n",
       "</table>\n",
       "</div>"
      ],
      "text/plain": [
       "  calendarYear  depreciationAndAmortization  \\\n",
       "3         2020                  11056000000   \n",
       "2         2021                  11284000000   \n",
       "1         2022                  11104000000   \n",
       "0         2023                  11519000000   \n",
       "\n",
       "   depreciationAndAmortization_variation  \n",
       "3                                  -0.12  \n",
       "2                                   0.02  \n",
       "1                                  -0.02  \n",
       "0                                   0.04  "
      ]
     },
     "execution_count": 182,
     "metadata": {},
     "output_type": "execute_result"
    }
   ],
   "source": [
    "df_depreciationAndAmortization = df_aapl_cashflow[['calendarYear', 'depreciationAndAmortization']]\n",
    "df_depreciationAndAmortization_variatoin = get_variation(df_depreciationAndAmortization, col='depreciationAndAmortization', new_colname='depreciationAndAmortization_variation')\n",
    "df_depreciationAndAmortization_variatoin"
   ]
  },
  {
   "cell_type": "code",
   "execution_count": 184,
   "metadata": {},
   "outputs": [
    {
     "data": {
      "image/png": "[encoded data removed]",
      "text/plain": [
       "<Figure size 1000x600 with 1 Axes>"
      ]
     },
     "metadata": {},
     "output_type": "display_data"
    }
   ],
   "source": [
    "plot_variation(\n",
    "    df_depreciationAndAmortization_variatoin, \n",
    "    date_col='calendarYear', \n",
    "    variation_col='depreciationAndAmortization_variation',\n",
    "    title='depreciationAndAmortization variatoin'\n",
    ")"
   ]
  },
  {
   "cell_type": "markdown",
   "metadata": {},
   "source": [
    "## Investing Activities"
   ]
  },
  {
   "cell_type": "markdown",
   "metadata": {},
   "source": [
    "Investing Activities  \n",
    "This section reflects where Apple is investing its capital, often in:\n",
    "\n",
    "- Capital Expenditures (CapEx): Investments in physical assets like factories, stores, or equipment. A rising CapEx might indicate expansion.\n",
    "- Purchases/Sales of Investments: Apple holds a large portfolio of marketable securities. Analyze how much of their cash flow is tied up in investments versus being deployed in business operations."
   ]
  },
  {
   "cell_type": "code",
   "execution_count": null,
   "metadata": {},
   "outputs": [],
   "source": []
  },
  {
   "cell_type": "markdown",
   "metadata": {},
   "source": [
    "c. Financing Activities\n",
    "This shows how Apple finances its operations and returns cash to shareholders:\n",
    "\n",
    "- Share Buybacks: Apple has been repurchasing a large number of shares.\n",
    "- Dividend Payments: Regular cash outflow to shareholders.\n",
    "- Debt Issuance/Repayment: Analyze whether Apple is issuing debt or repaying it. Despite large cash reserves, Apple has issued debt due to historically low-interest rates."
   ]
  },
  {
   "cell_type": "markdown",
   "metadata": {},
   "source": [
    "# Key Ratios and Metrics\n",
    "\n",
    "- Free Cash Flow (FCF):  \n",
    "FCF = Operating Cash Flow - Capital Expenditures  \n",
    "This is a key metric to see how much cash is available after Apple covers its basic operational expenses.\n",
    "- Cash Conversion Ratio (CCR):  \n",
    "CCR = Operating Cash Flow / Net Income  \n",
    "This ratio shows how well Apple converts its net income into cash."
   ]
  },
  {
   "cell_type": "code",
   "execution_count": 62,
   "metadata": {},
   "outputs": [
    {
     "data": {
      "text/html": [
       "<div>\n",
       "<style scoped>\n",
       "    .dataframe tbody tr th:only-of-type {\n",
       "        vertical-align: middle;\n",
       "    }\n",
       "\n",
       "    .dataframe tbody tr th {\n",
       "        vertical-align: top;\n",
       "    }\n",
       "\n",
       "    .dataframe thead th {\n",
       "        text-align: right;\n",
       "    }\n",
       "</style>\n",
       "<table border=\"1\" class=\"dataframe\">\n",
       "  <thead>\n",
       "    <tr style=\"text-align: right;\">\n",
       "      <th></th>\n",
       "      <th>date</th>\n",
       "      <th>freeCashFlow</th>\n",
       "    </tr>\n",
       "  </thead>\n",
       "  <tbody>\n",
       "    <tr>\n",
       "      <th>0</th>\n",
       "      <td>2023-09-30</td>\n",
       "      <td>121502000000</td>\n",
       "    </tr>\n",
       "    <tr>\n",
       "      <th>1</th>\n",
       "      <td>2022-09-24</td>\n",
       "      <td>132859000000</td>\n",
       "    </tr>\n",
       "    <tr>\n",
       "      <th>2</th>\n",
       "      <td>2021-09-25</td>\n",
       "      <td>115123000000</td>\n",
       "    </tr>\n",
       "    <tr>\n",
       "      <th>3</th>\n",
       "      <td>2020-09-26</td>\n",
       "      <td>87983000000</td>\n",
       "    </tr>\n",
       "    <tr>\n",
       "      <th>4</th>\n",
       "      <td>2019-09-28</td>\n",
       "      <td>79886000000</td>\n",
       "    </tr>\n",
       "  </tbody>\n",
       "</table>\n",
       "</div>"
      ],
      "text/plain": [
       "         date  freeCashFlow\n",
       "0  2023-09-30  121502000000\n",
       "1  2022-09-24  132859000000\n",
       "2  2021-09-25  115123000000\n",
       "3  2020-09-26   87983000000\n",
       "4  2019-09-28   79886000000"
      ]
     },
     "execution_count": 62,
     "metadata": {},
     "output_type": "execute_result"
    }
   ],
   "source": [
    "# FCF\n",
    "df_aapl_cashflow['freeCashFlow'] = df_aapl_cashflow['operatingCashFlow'] - df_aapl_cashflow['capitalExpenditure']\n",
    "df_aapl_cashflow[['date', 'freeCashFlow']]"
   ]
  }
 ],
 "metadata": {
  "kernelspec": {
   "display_name": "frc",
   "language": "python",
   "name": "python3"
  },
  "language_info": {
   "codemirror_mode": {
    "name": "ipython",
    "version": 3
   },
   "file_extension": ".py",
   "mimetype": "text/x-python",
   "name": "python",
   "nbconvert_exporter": "python",
   "pygments_lexer": "ipython3",
   "version": "3.10.14"
  }
 },
 "nbformat": 4,
 "nbformat_minor": 2
}
